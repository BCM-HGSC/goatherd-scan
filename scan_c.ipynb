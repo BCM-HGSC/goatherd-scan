{
 "cells": [
  {
   "cell_type": "code",
   "execution_count": 1,
   "id": "74d481d3",
   "metadata": {},
   "outputs": [],
   "source": [
    "from os import PathLike\n",
    "from pathlib import Path, PurePath\n",
    "from typing import Union"
   ]
  },
  {
   "cell_type": "code",
   "execution_count": 2,
   "id": "dcfb83f8",
   "metadata": {},
   "outputs": [],
   "source": [
    "PathType = Union[PathLike, str]"
   ]
  },
  {
   "cell_type": "code",
   "execution_count": 3,
   "id": "39dee45a",
   "metadata": {},
   "outputs": [
    {
     "data": {
      "text/plain": [
       "True"
      ]
     },
     "execution_count": 3,
     "metadata": {},
     "output_type": "execute_result"
    }
   ],
   "source": [
    "isinstance(\"foo\", PathType)"
   ]
  },
  {
   "cell_type": "code",
   "execution_count": 4,
   "id": "5e5b067e",
   "metadata": {},
   "outputs": [
    {
     "data": {
      "text/plain": [
       "True"
      ]
     },
     "execution_count": 4,
     "metadata": {},
     "output_type": "execute_result"
    }
   ],
   "source": [
    "isinstance(Path(\"foo\"), PathType)"
   ]
  },
  {
   "cell_type": "code",
   "execution_count": 5,
   "id": "5a769d42",
   "metadata": {},
   "outputs": [
    {
     "name": "stdout",
     "output_type": "stream",
     "text": [
      "Overwriting local_file_metadata.py\n"
     ]
    }
   ],
   "source": [
    "%%writefile local_file_metadata.py\n",
    "\"\"\"\n",
    "Object model for the metadata of local filesystem objects.\n",
    "\"\"\"\n",
    "\n",
    "from dataclasses import asdict, astuple, dataclass, fields\n",
    "from datetime import datetime\n",
    "from grp import getgrgid\n",
    "from hashlib import md5\n",
    "from os import PathLike\n",
    "from pathlib import Path\n",
    "from pwd import getpwuid\n",
    "from queue import Empty\n",
    "from stat import filemode\n",
    "from typing import Iterator, Union\n",
    "\n",
    "\n",
    "BLOCK_SIZE = 65536\n",
    "\n",
    "PathType = Union[PathLike, str]\n",
    "\n",
    "\n",
    "@dataclass\n",
    "class LocalFileMetadata:\n",
    "    path: Path\n",
    "    mode: str\n",
    "    num_links: int\n",
    "    num_bytes: int\n",
    "    user: str\n",
    "    group: str\n",
    "    mtime: datetime\n",
    "    md5: str = None\n",
    "\n",
    "    @classmethod\n",
    "    def from_path(cls, p: Path):\n",
    "        s = p.stat(follow_symlinks=False)\n",
    "        result = cls(\n",
    "            p,\n",
    "            filemode(s.st_mode),\n",
    "            s.st_nlink,\n",
    "            s.st_size,\n",
    "            getpwuid(s.st_uid).pw_name,\n",
    "            getgrgid(s.st_gid).gr_name,\n",
    "            datetime.fromtimestamp(s.st_mtime),\n",
    "        )\n",
    "        return result\n",
    "\n",
    "    @property\n",
    "    def type_code(self):\n",
    "        return self.mode[0]\n",
    "\n",
    "    @property\n",
    "    def astuple(self):\n",
    "        return astuple(self)\n",
    "\n",
    "    @property\n",
    "    def asdict(self):\n",
    "        return asdict(self)\n",
    "\n",
    "    def compute_md5(self) -> None:\n",
    "        if not self.path.is_file():\n",
    "            self.md5 = \"NA\"\n",
    "            return\n",
    "        h = md5()\n",
    "        with self.path.open(\"rb\") as fin:\n",
    "            while data := fin.read(BLOCK_SIZE):\n",
    "                h.update(data)\n",
    "        self.md5 = h.hexdigest()\n",
    "\n",
    "\n",
    "def scan(starting_dir: PathType) -> Iterator[LocalFileMetadata]:\n",
    "    top = Path(starting_dir)\n",
    "    for p in top.glob(\"**/*\"):\n",
    "        yield LocalFileMetadata.from_path(p)\n"
   ]
  },
  {
   "cell_type": "code",
   "execution_count": 6,
   "id": "d922b93f",
   "metadata": {},
   "outputs": [],
   "source": [
    "from local_file_metadata import LocalFileMetadata, scan"
   ]
  },
  {
   "cell_type": "code",
   "execution_count": 7,
   "id": "a1b3836c",
   "metadata": {},
   "outputs": [],
   "source": [
    "all_files = list(scan(\"/Users/hale/Documents/TextMate_Bundles/\"))"
   ]
  },
  {
   "cell_type": "code",
   "execution_count": 8,
   "id": "9b73216a",
   "metadata": {},
   "outputs": [
    {
     "data": {
      "text/plain": [
       "1253"
      ]
     },
     "execution_count": 8,
     "metadata": {},
     "output_type": "execute_result"
    }
   ],
   "source": [
    "len(all_files)"
   ]
  },
  {
   "cell_type": "code",
   "execution_count": 9,
   "id": "68847a54",
   "metadata": {},
   "outputs": [
    {
     "data": {
      "text/plain": [
       "[LocalFileMetadata(path=PosixPath('/Users/hale/Documents/TextMate_Bundles/.DS_Store'), mode='-rw-r--r--', num_links=1, num_bytes=12292, user='hale', group='staff', mtime=datetime.datetime(2016, 8, 22, 17, 6, 32), md5=None),\n",
       " LocalFileMetadata(path=PosixPath('/Users/hale/Documents/TextMate_Bundles/groovy.tmbundle'), mode='drwxr-xr-x', num_links=9, num_bytes=288, user='hale', group='staff', mtime=datetime.datetime(2009, 10, 6, 14, 47, 8), md5=None),\n",
       " LocalFileMetadata(path=PosixPath('/Users/hale/Documents/TextMate_Bundles/bad'), mode='drwxr-xr-x', num_links=4, num_bytes=128, user='hale', group='staff', mtime=datetime.datetime(2009, 10, 6, 14, 45, 44), md5=None)]"
      ]
     },
     "execution_count": 9,
     "metadata": {},
     "output_type": "execute_result"
    }
   ],
   "source": [
    "all_files[:3]"
   ]
  },
  {
   "cell_type": "code",
   "execution_count": 10,
   "id": "8f95159e",
   "metadata": {},
   "outputs": [],
   "source": [
    "all_regular_files = [m for m in all_files if m.type_code == \"-\"]"
   ]
  },
  {
   "cell_type": "code",
   "execution_count": 11,
   "id": "49489a38",
   "metadata": {},
   "outputs": [
    {
     "data": {
      "text/plain": [
       "934"
      ]
     },
     "execution_count": 11,
     "metadata": {},
     "output_type": "execute_result"
    }
   ],
   "source": [
    "len(all_regular_files)"
   ]
  },
  {
   "cell_type": "code",
   "execution_count": 12,
   "id": "6a035f5b",
   "metadata": {},
   "outputs": [],
   "source": [
    "for md in all_regular_files:\n",
    "    md.compute_md5()"
   ]
  },
  {
   "cell_type": "code",
   "execution_count": 13,
   "id": "b4d07fa2",
   "metadata": {},
   "outputs": [
    {
     "data": {
      "text/plain": [
       "[LocalFileMetadata(path=PosixPath('/Users/hale/Documents/TextMate_Bundles/Graphviz.tmbundle/Syntaxes/.svn/format'), mode='-r--r--r--', num_links=1, num_bytes=2, user='hale', group='staff', mtime=datetime.datetime(2007, 8, 29, 9, 58, 58), md5='c30f7472766d25af1dc80b3ffc9a58c7'),\n",
       " LocalFileMetadata(path=PosixPath('/Users/hale/Documents/TextMate_Bundles/Graphviz.tmbundle/Syntaxes/.svn/all-wcprops'), mode='-r--r--r--', num_links=1, num_bytes=236, user='hale', group='staff', mtime=datetime.datetime(2007, 8, 29, 9, 58, 58), md5='0beac3861cd9354668f55aac6ad980a8'),\n",
       " LocalFileMetadata(path=PosixPath('/Users/hale/Documents/TextMate_Bundles/Graphviz.tmbundle/Syntaxes/.svn/text-base/DOT.plist.svn-base'), mode='-r--r--r--', num_links=1, num_bytes=3629, user='hale', group='staff', mtime=datetime.datetime(2007, 8, 29, 9, 58, 58), md5='19252177dfe15aea9b0625aa19b7ac41')]"
      ]
     },
     "execution_count": 13,
     "metadata": {},
     "output_type": "execute_result"
    }
   ],
   "source": [
    "all_regular_files[-3:]"
   ]
  },
  {
   "cell_type": "code",
   "execution_count": 14,
   "id": "92215017",
   "metadata": {},
   "outputs": [],
   "source": [
    "m = all_regular_files[42]"
   ]
  },
  {
   "cell_type": "code",
   "execution_count": 15,
   "id": "6386fddc",
   "metadata": {},
   "outputs": [
    {
     "data": {
      "text/plain": [
       "LocalFileMetadata(path=PosixPath('/Users/hale/Documents/TextMate_Bundles/groovy.tmbundle/Snippets/assert(__).tmSnippet'), mode='-rw-r--r--', num_links=1, num_bytes=519, user='hale', group='staff', mtime=datetime.datetime(2009, 10, 6, 14, 47, 8), md5='48e72b7707b0fcdcfcd3b2d6c214caa8')"
      ]
     },
     "execution_count": 15,
     "metadata": {},
     "output_type": "execute_result"
    }
   ],
   "source": [
    "m"
   ]
  },
  {
   "cell_type": "code",
   "execution_count": 16,
   "id": "b53a0957",
   "metadata": {},
   "outputs": [],
   "source": [
    "from collections import Counter"
   ]
  },
  {
   "cell_type": "code",
   "execution_count": 17,
   "id": "18e687f1",
   "metadata": {
    "scrolled": true
   },
   "outputs": [
    {
     "data": {
      "text/plain": [
       "Counter({'-': 934, 'd': 318, 'l': 1})"
      ]
     },
     "execution_count": 17,
     "metadata": {},
     "output_type": "execute_result"
    }
   ],
   "source": [
    "Counter(m.type_code for m in all_files)"
   ]
  },
  {
   "cell_type": "code",
   "execution_count": 18,
   "id": "8c368b4f",
   "metadata": {},
   "outputs": [],
   "source": [
    "all_links = [m for m in all_files if m.type_code==\"l\"]"
   ]
  },
  {
   "cell_type": "code",
   "execution_count": 19,
   "id": "03d10ec7",
   "metadata": {},
   "outputs": [
    {
     "data": {
      "text/plain": [
       "1"
      ]
     },
     "execution_count": 19,
     "metadata": {},
     "output_type": "execute_result"
    }
   ],
   "source": [
    "len(all_links)"
   ]
  },
  {
   "cell_type": "code",
   "execution_count": 20,
   "id": "bf0e7049",
   "metadata": {},
   "outputs": [
    {
     "data": {
      "text/plain": [
       "[LocalFileMetadata(path=PosixPath('/Users/hale/Documents/TextMate_Bundles/active_bundles'), mode='lrwxr-xr-x', num_links=1, num_bytes=56, user='hale', group='staff', mtime=datetime.datetime(2007, 8, 29, 10, 8, 17), md5=None)]"
      ]
     },
     "execution_count": 20,
     "metadata": {},
     "output_type": "execute_result"
    }
   ],
   "source": [
    "all_links"
   ]
  },
  {
   "cell_type": "code",
   "execution_count": 21,
   "id": "bcc35bd5",
   "metadata": {},
   "outputs": [
    {
     "data": {
      "text/plain": [
       "(PosixPath('/Users/hale/Documents/TextMate_Bundles/groovy.tmbundle/Snippets/assert(__).tmSnippet'),\n",
       " '-rw-r--r--',\n",
       " 1,\n",
       " 519,\n",
       " 'hale',\n",
       " 'staff',\n",
       " datetime.datetime(2009, 10, 6, 14, 47, 8),\n",
       " '48e72b7707b0fcdcfcd3b2d6c214caa8')"
      ]
     },
     "execution_count": 21,
     "metadata": {},
     "output_type": "execute_result"
    }
   ],
   "source": [
    "m.astuple"
   ]
  },
  {
   "cell_type": "code",
   "execution_count": 22,
   "id": "267c5e58",
   "metadata": {},
   "outputs": [
    {
     "data": {
      "text/plain": [
       "{'path': PosixPath('/Users/hale/Documents/TextMate_Bundles/groovy.tmbundle/Snippets/assert(__).tmSnippet'),\n",
       " 'mode': '-rw-r--r--',\n",
       " 'num_links': 1,\n",
       " 'num_bytes': 519,\n",
       " 'user': 'hale',\n",
       " 'group': 'staff',\n",
       " 'mtime': datetime.datetime(2009, 10, 6, 14, 47, 8),\n",
       " 'md5': '48e72b7707b0fcdcfcd3b2d6c214caa8'}"
      ]
     },
     "execution_count": 22,
     "metadata": {},
     "output_type": "execute_result"
    }
   ],
   "source": [
    "m.asdict"
   ]
  },
  {
   "cell_type": "markdown",
   "id": "c160412d",
   "metadata": {},
   "source": [
    "---"
   ]
  },
  {
   "cell_type": "code",
   "execution_count": 23,
   "id": "c1b84111",
   "metadata": {},
   "outputs": [
    {
     "name": "stdout",
     "output_type": "stream",
     "text": [
      "Overwriting mp_d.py\n"
     ]
    }
   ],
   "source": [
    "%%writefile mp_d.py\n",
    "from multiprocessing import Process, Queue\n",
    "from os import getpid\n",
    "from queue import Empty\n",
    "from sys import argv\n",
    "from time import sleep\n",
    "\n",
    "from local_file_metadata import LocalFileMetadata, scan\n",
    "\n",
    "\n",
    "def main() -> None:\n",
    "    output_path, *extra = argv\n",
    "    start_path = \".\"\n",
    "    if extra:\n",
    "        assert len(extra) == 1, extra\n",
    "        start_path, = extra\n",
    "    run(start_path, output_path)\n",
    "\n",
    "    \n",
    "def run(start_path, output_path) -> None:\n",
    "    print(getpid())\n",
    "    engine = TaskEngine(run_worker, handle_results, 2)\n",
    "    for i in range(10):\n",
    "        engine.post_task(i)\n",
    "    sleep(1)\n",
    "    engine.start()\n",
    "    for i in range(10, 20):\n",
    "        engine.post_task(i)\n",
    "    engine.finish()\n",
    "    print(\"done\")\n",
    "\n",
    "\n",
    "\n",
    "def run_worker(worker_id, tasks: Queue, results: Queue) -> None:\n",
    "    pid = getpid()\n",
    "    print(pid, worker_id, \"hello\")\n",
    "    while True:\n",
    "        # print(pid, worker_id, \"get\")\n",
    "        task_def = tasks.get()\n",
    "        print(*task_def, pid, worker_id, \"value\")\n",
    "        results.put((task_def + (pid, worker_id)))\n",
    "        # print(pid, worker_id, \"sleep\")\n",
    "        sleep(0.1)\n",
    "        # print(pid, i, \"wake\")\n",
    "\n",
    "\n",
    "WORK_END = \"WORK END\"  # sentinel object for task_defs Queue\n",
    "\n",
    "\n",
    "def handle_results(worker_results: Queue, task_defs: Queue):\n",
    "    print(\"handle_results\")\n",
    "    remaining_tasks = set()\n",
    "    task_defs_closed = False\n",
    "    while remaining_tasks or not task_defs_closed:\n",
    "        if not task_defs_closed:\n",
    "            for task_def in iterate_quick(task_defs):\n",
    "                if not task_def == WORK_END:\n",
    "                    assert isinstance(task_def, tuple), task_def\n",
    "                    task_id = task_def[0]\n",
    "                    remaining_tasks.add(task_id)\n",
    "                else:\n",
    "                    print(\"Got WORK_END\")\n",
    "                    task_defs_closed = True\n",
    "        print(\"fetching results\")\n",
    "        for result in iterate_quick(worker_results):\n",
    "            print(\"result\", *result)\n",
    "            task_id = result[0]\n",
    "            assert task_id in remaining_tasks, (result, remaining_tasks)\n",
    "            remaining_tasks.remove(task_id)\n",
    "    assert not remaining_tasks, remaining_tasks\n",
    "\n",
    "\n",
    "def iterate_quick(q: Queue):\n",
    "    while True:\n",
    "        try:\n",
    "            yield q.get(True, 0.01)\n",
    "        except Empty:\n",
    "            return\n",
    "\n",
    "\n",
    "class TaskEngine:\n",
    "    def __init__(self, worker_function, results_handler, num_workers: int = 2):\n",
    "        self.worker_tasks = Queue()\n",
    "        self.worker_results = Queue()\n",
    "        self.task_defs = Queue()\n",
    "        self.workers = [\n",
    "            Process(\n",
    "                target=worker_function,\n",
    "                args=(\n",
    "                    worker_id,\n",
    "                    self.worker_tasks,\n",
    "                    self.worker_results,\n",
    "                ),\n",
    "            )\n",
    "            for worker_id in range(num_workers)\n",
    "        ]\n",
    "        for worker in self.workers:\n",
    "            worker.start()\n",
    "        self.result_process = Process(\n",
    "            target=results_handler, args=(self.worker_results, self.task_defs)\n",
    "        )\n",
    "\n",
    "    def post_task(self, *data):\n",
    "        print(\"posting\", *data)\n",
    "        # remaining_tasks.add(data)\n",
    "        self.worker_tasks.put(data)\n",
    "        self.task_defs.put(data)\n",
    "\n",
    "    def start(self):\n",
    "        self.result_process.start()\n",
    "\n",
    "    def finish(self):\n",
    "        \"\"\"Wait for self.result_process to exit, then kill all workers and exit.\"\"\"\n",
    "        self.task_defs.put(WORK_END)\n",
    "        self.worker_tasks.close()\n",
    "        self.task_defs.close()\n",
    "        self.result_process.join()\n",
    "        for worker in self.workers:\n",
    "            print(\"terminating\", worker.name)\n",
    "            worker.terminate()\n",
    "\n",
    "\n",
    "if __name__ == \"__main__\":\n",
    "    main()\n"
   ]
  },
  {
   "cell_type": "code",
   "execution_count": 24,
   "id": "579e96a7",
   "metadata": {
    "scrolled": false
   },
   "outputs": [
    {
     "name": "stdout",
     "output_type": "stream",
     "text": [
      "18100\n",
      "posting 0\n",
      "posting 1\n",
      "posting 2\n",
      "posting 3\n",
      "posting 4\n",
      "posting 5\n",
      "posting 6\n",
      "posting 7\n",
      "posting 8\n",
      "posting 9\n",
      "posting 10\n",
      "posting 11\n",
      "posting 12\n",
      "posting 13\n",
      "posting 14\n",
      "posting 15\n",
      "posting 16\n",
      "posting 17\n",
      "posting 18\n",
      "posting 19\n",
      "handle_results\n",
      "Got WORK_END\n",
      "fetching results\n",
      "result 0 19514 0\n",
      "result 1 19515 1\n",
      "result 2 19514 0\n",
      "result 3 19515 1\n",
      "result 4 19514 0\n",
      "result 5 19515 1\n",
      "result 6 19514 0\n",
      "result 7 19515 1\n",
      "result 8 19514 0\n",
      "result 9 19515 1\n",
      "result 10 19514 0\n",
      "result 11 19515 1\n",
      "fetching results\n",
      "fetching results\n",
      "result 12 19514 0\n",
      "result 13 19515 1\n",
      "fetching results\n",
      "fetching results\n",
      "fetching results\n",
      "fetching results\n",
      "fetching results\n",
      "fetching results\n",
      "fetching results\n",
      "fetching results\n",
      "fetching results\n",
      "result 14 19514 0\n",
      "result 15 19515 1\n",
      "fetching results\n",
      "fetching results\n",
      "fetching results\n",
      "fetching results\n",
      "fetching results\n",
      "fetching results\n",
      "fetching results\n",
      "fetching results\n",
      "fetching results\n",
      "result 16 19514 0\n",
      "result 17 19515 1\n",
      "fetching results\n",
      "fetching results\n",
      "fetching results\n",
      "fetching results\n",
      "fetching results\n",
      "fetching results\n",
      "fetching results\n",
      "fetching results\n",
      "fetching results\n",
      "result 18 19514 0\n",
      "result 19 19515 1\n",
      "terminating Process-1\n",
      "terminating Process-2\n",
      "done\n"
     ]
    }
   ],
   "source": [
    "run mp_d.py"
   ]
  },
  {
   "cell_type": "code",
   "execution_count": null,
   "id": "2db3eefb",
   "metadata": {},
   "outputs": [],
   "source": []
  },
  {
   "cell_type": "code",
   "execution_count": null,
   "id": "7c959002",
   "metadata": {},
   "outputs": [],
   "source": []
  },
  {
   "cell_type": "code",
   "execution_count": null,
   "id": "ac8391ae",
   "metadata": {},
   "outputs": [],
   "source": []
  },
  {
   "cell_type": "code",
   "execution_count": null,
   "id": "4b7dd57d",
   "metadata": {},
   "outputs": [],
   "source": []
  },
  {
   "cell_type": "code",
   "execution_count": null,
   "id": "3d5255ae",
   "metadata": {},
   "outputs": [],
   "source": []
  },
  {
   "cell_type": "code",
   "execution_count": null,
   "id": "2cb44ca2",
   "metadata": {},
   "outputs": [],
   "source": []
  },
  {
   "cell_type": "code",
   "execution_count": null,
   "id": "90a4678b",
   "metadata": {},
   "outputs": [],
   "source": []
  },
  {
   "cell_type": "code",
   "execution_count": null,
   "id": "92ee51e6",
   "metadata": {},
   "outputs": [],
   "source": []
  },
  {
   "cell_type": "code",
   "execution_count": null,
   "id": "3700cacc",
   "metadata": {},
   "outputs": [],
   "source": []
  },
  {
   "cell_type": "code",
   "execution_count": null,
   "id": "1b925d30",
   "metadata": {},
   "outputs": [],
   "source": []
  }
 ],
 "metadata": {
  "kernelspec": {
   "display_name": "Python 3 (ipykernel)",
   "language": "python",
   "name": "python3"
  },
  "language_info": {
   "codemirror_mode": {
    "name": "ipython",
    "version": 3
   },
   "file_extension": ".py",
   "mimetype": "text/x-python",
   "name": "python",
   "nbconvert_exporter": "python",
   "pygments_lexer": "ipython3",
   "version": "3.10.2"
  },
  "vscode": {
   "interpreter": {
    "hash": "3399cb9109d2de6545574d46c51067ba5a2ef2f208939b8956bcfa4d74a63b1e"
   }
  }
 },
 "nbformat": 4,
 "nbformat_minor": 5
}
